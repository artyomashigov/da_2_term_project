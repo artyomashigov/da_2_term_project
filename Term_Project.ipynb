{
 "cells": [
  {
   "cell_type": "markdown",
   "id": "d5ff5d5d",
   "metadata": {},
   "source": [
    "# Table of Content\n",
    "1. Introduction\n",
    "2. Data manipulation, data cleaning\n",
    "3. Analysis\n",
    "4. Conclusion\n",
    "5. Appendix"
   ]
  },
  {
   "cell_type": "markdown",
   "id": "b46c52c4",
   "metadata": {},
   "source": [
    "# Exploring the Correlation Between Government Expenditures and Literacy Rate: The Role of Socio-Economic and Educational Factors"
   ]
  },
  {
   "cell_type": "markdown",
   "id": "da338048",
   "metadata": {},
   "source": [
    "## Introduction"
   ]
  },
  {
   "cell_type": "markdown",
   "id": "7e821c2c",
   "metadata": {},
   "source": [
    "Education is a cornerstone of societal development and individual empowerment, profoundly influencing a nation's economic growth, social progress, and cultural enrichment. Among the various metrics of educational attainment, literacy rates stand out as a critical indicator, reflecting the ability of a population to engage effectively with written information and thus participate fully in modern society.\n",
    "\n",
    "This study aims to explore the correlation between government expenditures on education and literacy rates, emphasizing the adult population (ages 25-64). Government expenditure on education, typically expressed as a percentage of GDP, is a crucial factor that can significantly impact the quality, accessibility, and breadth of educational opportunities available to a nation's citizens.\n",
    "\n",
    "However, the relationship between government spending and literacy is not straightforward and can be influenced by various socio-economic and educational factors. To gain a more nuanced understanding, this analysis will incorporate several controlling variables (Z variables), including:\n",
    "\n",
    "- Student-Teacher Ratio: This reflects the average number of students per teacher at a given level of education and is an essential indicator of educational quality.\n",
    "- GDP per Capita: A standard measure of a country's economic performance and living standards, which can significantly impact educational funding and literacy.\n",
    "- Completion Rate: The rate at which students complete a given level of education, which can influence overall literacy levels.\n",
    "- Average Years of Schooling: This represents the average number of years of education received by people aged 25 and above and is a direct measure of educational attainment.\n",
    "\n",
    "By controlling for these variables, the study seeks to isolate the effect of government educational expenditure on literacy rates. This approach acknowledges the complex interplay between economic capabilities, educational policies, and societal values in shaping literacy outcomes.\n",
    "\n",
    "Through rigorous data analysis and statistical modeling, this project aims to provide insights into how government spending on education correlates with literacy rates and the extent to which other socio-economic and educational factors mediate this relationship. The findings could offer valuable guidance for policymakers and educators in prioritizing investments and strategies to enhance literacy and, by extension, socio-economic development."
   ]
  },
  {
   "cell_type": "markdown",
   "id": "b6b29c5c",
   "metadata": {},
   "source": [
    "# Data"
   ]
  },
  {
   "cell_type": "markdown",
   "id": "6492573f",
   "metadata": {},
   "source": [
    "The dataset initially comprised 47 indicators across 272 countries or regions, spanning 20 years, resulting in a total of 12,784 rows. The indicators encompass a range of educational, economic, and demographic metrics. To address the challenge of numerous missing values in yearly data, we calculated the average of each indicator across the 20-year period for each country. This approach not only mitigated the issue of missing data but also provided a more consolidated and long-term perspective of each indicator at the country level.\n",
    "\n",
    "After the cleaning and transformation process, our dataset was refined to encompass 13 indicators for 60 countries. This reduction in the number of indicators and countries was a necessary step to ensure data quality and reliability, focusing on the most relevant and consistently reported metrics.\n",
    "\n",
    "For our analysis, we've selected key indicators from the World Bank data, grouped into three main categories:\n",
    "\n",
    "**Educational Indicators:**\n",
    "- Literacy Rate, Population 25-64 Years, Both Sexes (%) (UIS.LR.AG25T64): Reflects the adult literacy level, essential for understanding everyday life.\n",
    "- Student-Teacher Ratio in Primary Education: Indicates the average number of students per teacher, a proxy for educational quality.\n",
    "- Completion Rate, Primary Education, Both Sexes (%): Measures the effectiveness of primary education systems in retaining students.\n",
    "- Average Years of Total Schooling, Age 25+, Total: Represents the average educational attainment of the adult population.\n",
    "\n",
    "**Economic Indicators:**\n",
    "- Government Expenditure on Education as % of GDP (SE.XPD.TOTL.GD.ZS): Shows the government's financial commitment to education relative to the country's overall economic output.\n",
    "- GDP per Capita (current US$): A key measure of economic performance and standard of living.\n",
    "\n",
    "These indicators collectively provide insights into the relationship between government education spending, economic conditions, and educational outcomes, particularly literacy rates. The educational indicators focus on the quality and effectiveness of education systems, while the economic indicators reflect national priorities and capabilities concerning education.\n",
    "\n"
   ]
  },
  {
   "cell_type": "code",
   "execution_count": 1,
   "id": "a7f1f186",
   "metadata": {},
   "outputs": [],
   "source": [
    "# import libs\n",
    "import pandas as pd\n",
    "import numpy as np\n",
    "import seaborn as sns\n",
    "import matplotlib.pyplot as plt\n",
    "from stargazer.stargazer import Stargazer\n",
    "import statsmodels.api as sm\n",
    "import statsmodels.formula.api as smf"
   ]
  },
  {
   "cell_type": "code",
   "execution_count": 2,
   "id": "61355ed2",
   "metadata": {},
   "outputs": [],
   "source": [
    "# import data\n",
    "df = pd.read_csv('https://raw.githubusercontent.com/artyomashigov/da_2_term_project/main/literacy_rate_raw_data.csv')"
   ]
  },
  {
   "cell_type": "code",
   "execution_count": 3,
   "id": "f2b7929d",
   "metadata": {},
   "outputs": [],
   "source": [
    "# changing column names\n",
    "df.rename(columns={\n",
    "    'Country Name': 'country',\n",
    "    'Barro-Lee: Average years of total schooling, age 25+, female': 'avg_ed_years_fem',\n",
    "    'Barro-Lee: Average years of total schooling, age 25+, total': 'avg_ed_years',\n",
    "    'Completion rate, primary education, both sexes (%)': 'prim_comp_rate',\n",
    "    'Completion rate, primary education, female (%)': 'prim_comp_rate_fem',\n",
    "    'Completion rate, primary education, male (%)': 'prim_comp_rate_male',\n",
    "    'GDP per capita (current US$)': 'gdp_capita',\n",
    "    'GDP per capita, PPP (current international $)': 'gdp_capita_ppp',\n",
    "    'Government expenditure on education as % of GDP (%)': 'gov_exp',\n",
    "    'Government expenditure on primary education as % of GDP (%)': 'gov_exp_prim',\n",
    "    'Government expenditure on primary education, US$ (millions)': 'gov_exp_prim_mn_usd',\n",
    "    'Literacy rate, population 25-64 years, both sexes (%)': 'lit_rate',\n",
    "    'Literacy rate, population 25-64 years, female (%)': 'lit_rate_fem',\n",
    "    'Literacy rate, population 25-64 years, male (%)': 'lit_rate_male',\n",
    "    'Population growth (annual %)': 'pop_growth',\n",
    "    'Pupil-qualified teacher ratio in primary education (headcount basis)': 'stu_teach_ratio'\n",
    "}, inplace=True)\n"
   ]
  },
  {
   "cell_type": "code",
   "execution_count": 4,
   "id": "4ebf2575",
   "metadata": {},
   "outputs": [],
   "source": [
    "# drop 2 columns\n",
    "df = df.drop(['gov_exp_prim', 'gov_exp_prim_mn_usd'], axis=1)\n",
    "# drop missing values\n",
    "df = df.dropna()\n",
    "df = df.reset_index(drop = True)\n",
    "#export clean data\n",
    "df.to_csv('literacy_rate_cleaned_data.csv')"
   ]
  },
  {
   "cell_type": "code",
   "execution_count": null,
   "id": "36489caf",
   "metadata": {},
   "outputs": [],
   "source": []
  },
  {
   "cell_type": "markdown",
   "id": "7ddcfb81",
   "metadata": {},
   "source": [
    "## Analysis"
   ]
  },
  {
   "cell_type": "code",
   "execution_count": null,
   "id": "7c695b87",
   "metadata": {},
   "outputs": [],
   "source": []
  }
 ],
 "metadata": {
  "kernelspec": {
   "display_name": "Python 3 (ipykernel)",
   "language": "python",
   "name": "python3"
  },
  "language_info": {
   "codemirror_mode": {
    "name": "ipython",
    "version": 3
   },
   "file_extension": ".py",
   "mimetype": "text/x-python",
   "name": "python",
   "nbconvert_exporter": "python",
   "pygments_lexer": "ipython3",
   "version": "3.11.4"
  }
 },
 "nbformat": 4,
 "nbformat_minor": 5
}
